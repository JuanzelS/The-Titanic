{
 "cells": [
  {
   "cell_type": "code",
   "execution_count": 1,
   "id": "ad58b2c7-afef-4b03-a806-3e2df7547e50",
   "metadata": {},
   "outputs": [
    {
     "name": "stdout",
     "output_type": "stream",
     "text": [
      "Mean: 4.391304347826087\n",
      "Mode: 3\n",
      "\n",
      "----------- Calculate Mean -----------\n",
      "\n",
      "Apple     16.500000\n",
      "Orange    11.333333\n",
      "Banana    11.666667\n",
      "Pear      16.333333\n",
      "dtype: float64\n",
      "\n",
      "----------- Calculate Median -----------\n",
      "\n",
      "Apple      8.5\n",
      "Orange    14.0\n",
      "Banana     8.5\n",
      "Pear      10.0\n",
      "dtype: float64\n",
      "\n",
      "----------- Calculate Mode -----------\n",
      "\n",
      "Apple      7\n",
      "Orange    14\n",
      "Banana     1\n",
      "Pear       8\n",
      "Name: 0, dtype: int64\n"
     ]
    }
   ],
   "source": [
    "import numpy as np\n",
    "import scipy.stats as stats\n",
    "import pandas as pd\n",
    "\n",
    "# Define the dataset\n",
    "data = np.array([1, 3, 5, 2, 3, 7, 8, 4, 10, 0, 6, 7, 3, 0, 3, 0, 5, 7, 10, 1, 4, 9, 3])\n",
    "\n",
    "# Define a function to compute the mean\n",
    "def compute_mean(dataset):\n",
    "    # Initialize a variable to store the sum\n",
    "    total_sum = 0\n",
    "\n",
    "    # Loop over the dataset and sum up all the values\n",
    "    for value in dataset:\n",
    "        total_sum += value\n",
    "\n",
    "    # Divide the sum by the number of elements to compute the mean\n",
    "    mean = total_sum / len(dataset)\n",
    "\n",
    "    # Return the mean\n",
    "    return mean\n",
    "\n",
    "# Compute the mean of the dataset\n",
    "mean_result = compute_mean(data)\n",
    "print(\"Mean:\", mean_result)\n",
    "\n",
    "# Compute the mode of the dataset\n",
    "mode_result = stats.mode(data)\n",
    "print(\"Mode:\", mode_result.mode)\n",
    "\n",
    "# Define a DataFrame\n",
    "df = pd.DataFrame([[10, 20, 30, 40], [7, 14, 21, 28], [55, 15, 8, 12],\n",
    "                   [15, 14, 1, 8], [7, 1, 1, 8], [5, 4, 9, 2]],\n",
    "                  columns=['Apple', 'Orange', 'Banana', 'Pear'],\n",
    "                  index=['Basket1', 'Basket2', 'Basket3', 'Basket4',\n",
    "                         'Basket5', 'Basket6'])\n",
    "\n",
    "print(\"\\n----------- Calculate Mean -----------\\n\")\n",
    "print(df.mean())\n",
    "\n",
    "print(\"\\n----------- Calculate Median -----------\\n\")\n",
    "print(df.median())\n",
    "\n",
    "print(\"\\n----------- Calculate Mode -----------\\n\")\n",
    "print(df.mode().iloc[0])  # Use iloc[0] to select the first row of the DataFrame containing modes\n"
   ]
  },
  {
   "cell_type": "code",
   "execution_count": null,
   "id": "2102f685-20c7-4d54-a2af-439f989b5912",
   "metadata": {},
   "outputs": [],
   "source": []
  }
 ],
 "metadata": {
  "kernelspec": {
   "display_name": "Python 3 (ipykernel)",
   "language": "python",
   "name": "python3"
  },
  "language_info": {
   "codemirror_mode": {
    "name": "ipython",
    "version": 3
   },
   "file_extension": ".py",
   "mimetype": "text/x-python",
   "name": "python",
   "nbconvert_exporter": "python",
   "pygments_lexer": "ipython3",
   "version": "3.11.7"
  }
 },
 "nbformat": 4,
 "nbformat_minor": 5
}
